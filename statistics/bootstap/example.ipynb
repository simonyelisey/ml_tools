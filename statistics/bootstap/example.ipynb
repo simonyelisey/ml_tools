{
 "cells": [
  {
   "cell_type": "markdown",
   "id": "0570311c",
   "metadata": {},
   "source": [
    "**ЗАДАЧА**:\n",
    "\n",
    "По группе семей с доходом 154 руб./чел. зафиксированы следующие цифры потребления молока за месяц (на одного человека):\n",
    "\n",
    "8,3; 8,6; 8,7; 8,8; 9,1; 9,3; 9,4; 13,4; 13,5; 13,8; 13,9; 14,1; 14,3.\n",
    "\n",
    "Найти доверительный интервал для **математического ожидания** и **дисперсии** с надежностью 0.95, дать точность оценки."
   ]
  },
  {
   "cell_type": "code",
   "execution_count": 1,
   "id": "d455c83b",
   "metadata": {},
   "outputs": [
    {
     "name": "stdout",
     "output_type": "stream",
     "text": [
      "Доверительный интервал для мат ожидания: [9.869038461538462, 12.484807692307692]\n",
      "Доверительный интервал для дисперсии: [3.3625325443786984, 6.9954053254437865]\n"
     ]
    }
   ],
   "source": [
    "# импортируем библиотеки\n",
    "import numpy as np\n",
    "from bootstrap_CI import bootstrap_samples, confidence_interval\n",
    "\n",
    "# фиксируем seed \n",
    "np.random.seed(42)\n",
    "\n",
    "# выборка\n",
    "X = np.array([8.3, 8.6, 8.7, 8.8, 9.1, 9.3, 9.4, 13.4, 13.5, 13.8, 13.9, 14.1, 14.3])\n",
    "\n",
    "# генерируем новые выборки и считаем статистики\n",
    "\n",
    "# мат ожидание\n",
    "stats_mean = [np.mean(sample) for sample in bootstrap_samples(X, 1000)]\n",
    "# дисперсия\n",
    "stats_var = [np.var(sample) for sample in bootstrap_samples(X, 1000)]\n",
    "\n",
    "# создаем доверительные интервалы \n",
    "\n",
    "# мат ожидание\n",
    "mean_interval = confidence_interval(stats_mean, 0.05)\n",
    "# дисперсия\n",
    "var_interval = confidence_interval(stats_var, 0.05)\n",
    "\n",
    "# выводим интервалы\n",
    "print(f'Доверительный интервал для мат ожидания: {mean_interval}')\n",
    "print(f'Доверительный интервал для дисперсии: {var_interval}')"
   ]
  },
  {
   "cell_type": "markdown",
   "id": "f465b287",
   "metadata": {},
   "source": [
    "**ОТВЕТ**:\n",
    "\n",
    "С вероятностью 95% **математическое ожидание** цифр потребления молока за месяц будет лежать между 9.87 и 12.48.\n",
    "\n",
    "С вероятностью 95% **дисперсия** цифр потребления молока за месяц будет лежать между 3.36 и 6.99."
   ]
  }
 ],
 "metadata": {
  "kernelspec": {
   "display_name": "Python 3 (ipykernel)",
   "language": "python",
   "name": "python3"
  },
  "language_info": {
   "codemirror_mode": {
    "name": "ipython",
    "version": 3
   },
   "file_extension": ".py",
   "mimetype": "text/x-python",
   "name": "python",
   "nbconvert_exporter": "python",
   "pygments_lexer": "ipython3",
   "version": "3.9.7"
  }
 },
 "nbformat": 4,
 "nbformat_minor": 5
}
